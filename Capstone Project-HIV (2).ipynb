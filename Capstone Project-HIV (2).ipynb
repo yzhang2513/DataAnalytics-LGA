{
 "cells": [
  {
   "cell_type": "markdown",
   "id": "7c676d4e",
   "metadata": {},
   "source": [
    "# Introduce Dataset"
   ]
  },
  {
   "cell_type": "code",
   "execution_count": 1,
   "id": "10443381",
   "metadata": {},
   "outputs": [],
   "source": [
    "import pandas as pd"
   ]
  },
  {
   "cell_type": "code",
   "execution_count": 2,
   "id": "63dd787c",
   "metadata": {},
   "outputs": [],
   "source": [
    "#load dataset from NYC OpenData, saved in Downloads, then uploaded to Jupyter Notebook\n",
    "df=pd.read_csv('HIV_AIDS_Diagnoses_by_Neighborhood__Age_Group__and_Race_Ethnicity_20240516.csv')"
   ]
  },
  {
   "cell_type": "code",
   "execution_count": 3,
   "id": "8acbb956",
   "metadata": {
    "scrolled": true
   },
   "outputs": [
    {
     "data": {
      "text/html": [
       "<div>\n",
       "<style scoped>\n",
       "    .dataframe tbody tr th:only-of-type {\n",
       "        vertical-align: middle;\n",
       "    }\n",
       "\n",
       "    .dataframe tbody tr th {\n",
       "        vertical-align: top;\n",
       "    }\n",
       "\n",
       "    .dataframe thead th {\n",
       "        text-align: right;\n",
       "    }\n",
       "</style>\n",
       "<table border=\"1\" class=\"dataframe\">\n",
       "  <thead>\n",
       "    <tr style=\"text-align: right;\">\n",
       "      <th></th>\n",
       "      <th>YEAR</th>\n",
       "      <th>NEIGHBORHOOD</th>\n",
       "      <th>RACE/ETHNICITY</th>\n",
       "      <th>AGE</th>\n",
       "      <th>TOTAL NUMBER OF HIV DIAGNOSES</th>\n",
       "      <th>HIV DIAGNOSES PER 100,000 POPULATION</th>\n",
       "      <th>TOTAL NUMBER OF CONCURRENT HIV/AIDS DIAGNOSES</th>\n",
       "      <th>PROPORTION OF CONCURRENT HIV/AIDS DIAGNOSES AMONG ALL HIV DIAGNOSES</th>\n",
       "      <th>TOTAL NUMBER OF AIDS DIAGNOSES</th>\n",
       "      <th>AIDS DIAGNOSES PER 100,000 POPULATION</th>\n",
       "      <th>Borough</th>\n",
       "    </tr>\n",
       "  </thead>\n",
       "  <tbody>\n",
       "    <tr>\n",
       "      <th>0</th>\n",
       "      <td>2013</td>\n",
       "      <td>High Bridge - Morrisania</td>\n",
       "      <td>Native American</td>\n",
       "      <td>30 - 39</td>\n",
       "      <td>0</td>\n",
       "      <td>0</td>\n",
       "      <td>0</td>\n",
       "      <td>0</td>\n",
       "      <td>0</td>\n",
       "      <td>0</td>\n",
       "      <td>NaN</td>\n",
       "    </tr>\n",
       "    <tr>\n",
       "      <th>1</th>\n",
       "      <td>2010</td>\n",
       "      <td>East Harlem</td>\n",
       "      <td>Unknown</td>\n",
       "      <td>40 - 49</td>\n",
       "      <td>0</td>\n",
       "      <td>NaN</td>\n",
       "      <td>0</td>\n",
       "      <td>NaN</td>\n",
       "      <td>0</td>\n",
       "      <td>NaN</td>\n",
       "      <td>NaN</td>\n",
       "    </tr>\n",
       "    <tr>\n",
       "      <th>2</th>\n",
       "      <td>2011</td>\n",
       "      <td>High Bridge - Morrisania</td>\n",
       "      <td>Unknown</td>\n",
       "      <td>40 - 49</td>\n",
       "      <td>0</td>\n",
       "      <td>NaN</td>\n",
       "      <td>0</td>\n",
       "      <td>NaN</td>\n",
       "      <td>0</td>\n",
       "      <td>NaN</td>\n",
       "      <td>NaN</td>\n",
       "    </tr>\n",
       "    <tr>\n",
       "      <th>3</th>\n",
       "      <td>2012</td>\n",
       "      <td>Greenwich Village - SoHo</td>\n",
       "      <td>Native American</td>\n",
       "      <td>50 - 59</td>\n",
       "      <td>0</td>\n",
       "      <td>0</td>\n",
       "      <td>0</td>\n",
       "      <td>0</td>\n",
       "      <td>0</td>\n",
       "      <td>0</td>\n",
       "      <td>NaN</td>\n",
       "    </tr>\n",
       "    <tr>\n",
       "      <th>4</th>\n",
       "      <td>2011</td>\n",
       "      <td>Long Island City - Astoria</td>\n",
       "      <td>Multiracial</td>\n",
       "      <td>20 - 29</td>\n",
       "      <td>0</td>\n",
       "      <td>0</td>\n",
       "      <td>0</td>\n",
       "      <td>0</td>\n",
       "      <td>0</td>\n",
       "      <td>0</td>\n",
       "      <td>NaN</td>\n",
       "    </tr>\n",
       "  </tbody>\n",
       "</table>\n",
       "</div>"
      ],
      "text/plain": [
       "   YEAR                NEIGHBORHOOD   RACE/ETHNICITY      AGE  \\\n",
       "0  2013    High Bridge - Morrisania  Native American  30 - 39   \n",
       "1  2010                 East Harlem          Unknown  40 - 49   \n",
       "2  2011    High Bridge - Morrisania          Unknown  40 - 49   \n",
       "3  2012    Greenwich Village - SoHo  Native American  50 - 59   \n",
       "4  2011  Long Island City - Astoria      Multiracial  20 - 29   \n",
       "\n",
       "  TOTAL NUMBER OF HIV DIAGNOSES HIV DIAGNOSES PER 100,000 POPULATION  \\\n",
       "0                             0                                    0   \n",
       "1                             0                                  NaN   \n",
       "2                             0                                  NaN   \n",
       "3                             0                                    0   \n",
       "4                             0                                    0   \n",
       "\n",
       "  TOTAL NUMBER OF CONCURRENT HIV/AIDS DIAGNOSES  \\\n",
       "0                                             0   \n",
       "1                                             0   \n",
       "2                                             0   \n",
       "3                                             0   \n",
       "4                                             0   \n",
       "\n",
       "  PROPORTION OF CONCURRENT HIV/AIDS DIAGNOSES AMONG ALL HIV DIAGNOSES  \\\n",
       "0                                                  0                    \n",
       "1                                                NaN                    \n",
       "2                                                NaN                    \n",
       "3                                                  0                    \n",
       "4                                                  0                    \n",
       "\n",
       "  TOTAL NUMBER OF AIDS DIAGNOSES AIDS DIAGNOSES PER 100,000 POPULATION Borough  \n",
       "0                              0                                     0     NaN  \n",
       "1                              0                                   NaN     NaN  \n",
       "2                              0                                   NaN     NaN  \n",
       "3                              0                                     0     NaN  \n",
       "4                              0                                     0     NaN  "
      ]
     },
     "execution_count": 3,
     "metadata": {},
     "output_type": "execute_result"
    }
   ],
   "source": [
    "#Display the first few rows of the dataset to verify it was imported correctly\n",
    "df.head()"
   ]
  },
  {
   "cell_type": "markdown",
   "id": "6ed2ec4d",
   "metadata": {},
   "source": [
    "# Data Overview"
   ]
  },
  {
   "cell_type": "code",
   "execution_count": 4,
   "id": "55fe59ce",
   "metadata": {
    "scrolled": true
   },
   "outputs": [
    {
     "name": "stdout",
     "output_type": "stream",
     "text": [
      "<class 'pandas.core.frame.DataFrame'>\n",
      "RangeIndex: 21036 entries, 0 to 21035\n",
      "Data columns (total 11 columns):\n",
      " #   Column                                                               Non-Null Count  Dtype \n",
      "---  ------                                                               --------------  ----- \n",
      " 0   YEAR                                                                 21036 non-null  int64 \n",
      " 1   NEIGHBORHOOD                                                         21036 non-null  object\n",
      " 2   RACE/ETHNICITY                                                       21036 non-null  object\n",
      " 3   AGE                                                                  21036 non-null  object\n",
      " 4   TOTAL NUMBER OF HIV DIAGNOSES                                        20935 non-null  object\n",
      " 5   HIV DIAGNOSES PER 100,000 POPULATION                                 19559 non-null  object\n",
      " 6   TOTAL NUMBER OF CONCURRENT HIV/AIDS DIAGNOSES                        21011 non-null  object\n",
      " 7   PROPORTION OF CONCURRENT HIV/AIDS DIAGNOSES AMONG ALL HIV DIAGNOSES  13572 non-null  object\n",
      " 8   TOTAL NUMBER OF AIDS DIAGNOSES                                       20960 non-null  object\n",
      " 9   AIDS DIAGNOSES PER 100,000 POPULATION                                19584 non-null  object\n",
      " 10  Borough                                                              12432 non-null  object\n",
      "dtypes: int64(1), object(10)\n",
      "memory usage: 1.8+ MB\n"
     ]
    }
   ],
   "source": [
    "#Exploratory Data Analysis (EDA)\n",
    "df.info()"
   ]
  },
  {
   "cell_type": "markdown",
   "id": "d945d494",
   "metadata": {},
   "source": [
    "# Data Cleansing"
   ]
  },
  {
   "cell_type": "code",
   "execution_count": 5,
   "id": "76daee71",
   "metadata": {},
   "outputs": [],
   "source": [
    "#Checking for Missing Values\n",
    "missing_values=df.isnull().sum()"
   ]
  },
  {
   "cell_type": "code",
   "execution_count": 6,
   "id": "d2968c02",
   "metadata": {},
   "outputs": [
    {
     "data": {
      "text/plain": [
       "YEAR                                                                      0\n",
       "NEIGHBORHOOD                                                              0\n",
       "RACE/ETHNICITY                                                            0\n",
       "AGE                                                                       0\n",
       "TOTAL NUMBER OF HIV DIAGNOSES                                           101\n",
       "HIV DIAGNOSES PER 100,000 POPULATION                                   1477\n",
       "TOTAL NUMBER OF CONCURRENT HIV/AIDS DIAGNOSES                            25\n",
       "PROPORTION OF CONCURRENT HIV/AIDS DIAGNOSES AMONG ALL HIV DIAGNOSES    7464\n",
       "TOTAL NUMBER OF AIDS DIAGNOSES                                           76\n",
       "AIDS DIAGNOSES PER 100,000 POPULATION                                  1452\n",
       "Borough                                                                8604\n",
       "dtype: int64"
      ]
     },
     "execution_count": 6,
     "metadata": {},
     "output_type": "execute_result"
    }
   ],
   "source": [
    "missing_values"
   ]
  },
  {
   "cell_type": "markdown",
   "id": "afb865f7",
   "metadata": {},
   "source": [
    "# Removing invalid values"
   ]
  },
  {
   "cell_type": "markdown",
   "id": "a34e489d",
   "metadata": {},
   "source": [
    "Replaced and dropped rows where the columns for race/ethnicity,age, or borough have the value 'All'. Please note these entries might represent the aggregate totals for all subcategories within these groups, which could result in double counting. To maintain data accuracy and integriy, the 'All' values were exlcuded, this ensures the precision and relevance of our analysis, ensuring that our conclusions are based on detailed and specific data points."
   ]
  },
  {
   "cell_type": "code",
   "execution_count": 7,
   "id": "b84fa482",
   "metadata": {},
   "outputs": [],
   "source": [
    "#Replace invalid values\n",
    "unwanted_values=['*','NA','All']\n"
   ]
  },
  {
   "cell_type": "code",
   "execution_count": 8,
   "id": "8fdd965d",
   "metadata": {},
   "outputs": [],
   "source": [
    "df_updated=pd.read_csv('HIV_AIDS_Diagnoses_by_Neighborhood__Age_Group__and_Race_Ethnicity_20240516.csv',na_values=unwanted_values)"
   ]
  },
  {
   "cell_type": "code",
   "execution_count": 9,
   "id": "a430f34a",
   "metadata": {},
   "outputs": [
    {
     "data": {
      "text/html": [
       "<div>\n",
       "<style scoped>\n",
       "    .dataframe tbody tr th:only-of-type {\n",
       "        vertical-align: middle;\n",
       "    }\n",
       "\n",
       "    .dataframe tbody tr th {\n",
       "        vertical-align: top;\n",
       "    }\n",
       "\n",
       "    .dataframe thead th {\n",
       "        text-align: right;\n",
       "    }\n",
       "</style>\n",
       "<table border=\"1\" class=\"dataframe\">\n",
       "  <thead>\n",
       "    <tr style=\"text-align: right;\">\n",
       "      <th></th>\n",
       "      <th>YEAR</th>\n",
       "      <th>NEIGHBORHOOD</th>\n",
       "      <th>RACE/ETHNICITY</th>\n",
       "      <th>AGE</th>\n",
       "      <th>TOTAL NUMBER OF HIV DIAGNOSES</th>\n",
       "      <th>HIV DIAGNOSES PER 100,000 POPULATION</th>\n",
       "      <th>TOTAL NUMBER OF CONCURRENT HIV/AIDS DIAGNOSES</th>\n",
       "      <th>PROPORTION OF CONCURRENT HIV/AIDS DIAGNOSES AMONG ALL HIV DIAGNOSES</th>\n",
       "      <th>TOTAL NUMBER OF AIDS DIAGNOSES</th>\n",
       "      <th>AIDS DIAGNOSES PER 100,000 POPULATION</th>\n",
       "      <th>Borough</th>\n",
       "    </tr>\n",
       "  </thead>\n",
       "  <tbody>\n",
       "    <tr>\n",
       "      <th>0</th>\n",
       "      <td>2013</td>\n",
       "      <td>High Bridge - Morrisania</td>\n",
       "      <td>Native American</td>\n",
       "      <td>30 - 39</td>\n",
       "      <td>0.0</td>\n",
       "      <td>0.0</td>\n",
       "      <td>0.0</td>\n",
       "      <td>0.0</td>\n",
       "      <td>0.0</td>\n",
       "      <td>0.0</td>\n",
       "      <td>NaN</td>\n",
       "    </tr>\n",
       "    <tr>\n",
       "      <th>1</th>\n",
       "      <td>2010</td>\n",
       "      <td>East Harlem</td>\n",
       "      <td>Unknown</td>\n",
       "      <td>40 - 49</td>\n",
       "      <td>0.0</td>\n",
       "      <td>NaN</td>\n",
       "      <td>0.0</td>\n",
       "      <td>NaN</td>\n",
       "      <td>0.0</td>\n",
       "      <td>NaN</td>\n",
       "      <td>NaN</td>\n",
       "    </tr>\n",
       "    <tr>\n",
       "      <th>2</th>\n",
       "      <td>2011</td>\n",
       "      <td>High Bridge - Morrisania</td>\n",
       "      <td>Unknown</td>\n",
       "      <td>40 - 49</td>\n",
       "      <td>0.0</td>\n",
       "      <td>NaN</td>\n",
       "      <td>0.0</td>\n",
       "      <td>NaN</td>\n",
       "      <td>0.0</td>\n",
       "      <td>NaN</td>\n",
       "      <td>NaN</td>\n",
       "    </tr>\n",
       "    <tr>\n",
       "      <th>3</th>\n",
       "      <td>2012</td>\n",
       "      <td>Greenwich Village - SoHo</td>\n",
       "      <td>Native American</td>\n",
       "      <td>50 - 59</td>\n",
       "      <td>0.0</td>\n",
       "      <td>0.0</td>\n",
       "      <td>0.0</td>\n",
       "      <td>0.0</td>\n",
       "      <td>0.0</td>\n",
       "      <td>0.0</td>\n",
       "      <td>NaN</td>\n",
       "    </tr>\n",
       "    <tr>\n",
       "      <th>4</th>\n",
       "      <td>2011</td>\n",
       "      <td>Long Island City - Astoria</td>\n",
       "      <td>Multiracial</td>\n",
       "      <td>20 - 29</td>\n",
       "      <td>0.0</td>\n",
       "      <td>0.0</td>\n",
       "      <td>0.0</td>\n",
       "      <td>0.0</td>\n",
       "      <td>0.0</td>\n",
       "      <td>0.0</td>\n",
       "      <td>NaN</td>\n",
       "    </tr>\n",
       "    <tr>\n",
       "      <th>...</th>\n",
       "      <td>...</td>\n",
       "      <td>...</td>\n",
       "      <td>...</td>\n",
       "      <td>...</td>\n",
       "      <td>...</td>\n",
       "      <td>...</td>\n",
       "      <td>...</td>\n",
       "      <td>...</td>\n",
       "      <td>...</td>\n",
       "      <td>...</td>\n",
       "      <td>...</td>\n",
       "    </tr>\n",
       "    <tr>\n",
       "      <th>21031</th>\n",
       "      <td>2021</td>\n",
       "      <td>Willowbrook</td>\n",
       "      <td>Black</td>\n",
       "      <td>60+</td>\n",
       "      <td>0.0</td>\n",
       "      <td>0.0</td>\n",
       "      <td>0.0</td>\n",
       "      <td>NaN</td>\n",
       "      <td>0.0</td>\n",
       "      <td>0.0</td>\n",
       "      <td>Staten\\nIsland</td>\n",
       "    </tr>\n",
       "    <tr>\n",
       "      <th>21032</th>\n",
       "      <td>2021</td>\n",
       "      <td>Willowbrook</td>\n",
       "      <td>Latino/Hispanic</td>\n",
       "      <td>60+</td>\n",
       "      <td>0.0</td>\n",
       "      <td>0.0</td>\n",
       "      <td>0.0</td>\n",
       "      <td>NaN</td>\n",
       "      <td>0.0</td>\n",
       "      <td>0.0</td>\n",
       "      <td>Staten\\nIsland</td>\n",
       "    </tr>\n",
       "    <tr>\n",
       "      <th>21033</th>\n",
       "      <td>2021</td>\n",
       "      <td>Willowbrook</td>\n",
       "      <td>Other/Unknown</td>\n",
       "      <td>60+</td>\n",
       "      <td>0.0</td>\n",
       "      <td>0.0</td>\n",
       "      <td>0.0</td>\n",
       "      <td>NaN</td>\n",
       "      <td>NaN</td>\n",
       "      <td>NaN</td>\n",
       "      <td>Staten\\nIsland</td>\n",
       "    </tr>\n",
       "    <tr>\n",
       "      <th>21034</th>\n",
       "      <td>2021</td>\n",
       "      <td>Willowbrook</td>\n",
       "      <td>White</td>\n",
       "      <td>60+</td>\n",
       "      <td>0.0</td>\n",
       "      <td>0.0</td>\n",
       "      <td>0.0</td>\n",
       "      <td>NaN</td>\n",
       "      <td>1.0</td>\n",
       "      <td>5.6</td>\n",
       "      <td>Staten\\nIsland</td>\n",
       "    </tr>\n",
       "    <tr>\n",
       "      <th>21035</th>\n",
       "      <td>2021</td>\n",
       "      <td>Willowbrook</td>\n",
       "      <td>NaN</td>\n",
       "      <td>NaN</td>\n",
       "      <td>4.0</td>\n",
       "      <td>4.9</td>\n",
       "      <td>0.0</td>\n",
       "      <td>0.0</td>\n",
       "      <td>4.0</td>\n",
       "      <td>4.9</td>\n",
       "      <td>Staten\\nIsland</td>\n",
       "    </tr>\n",
       "  </tbody>\n",
       "</table>\n",
       "<p>21036 rows × 11 columns</p>\n",
       "</div>"
      ],
      "text/plain": [
       "       YEAR                NEIGHBORHOOD   RACE/ETHNICITY      AGE  \\\n",
       "0      2013    High Bridge - Morrisania  Native American  30 - 39   \n",
       "1      2010                 East Harlem          Unknown  40 - 49   \n",
       "2      2011    High Bridge - Morrisania          Unknown  40 - 49   \n",
       "3      2012    Greenwich Village - SoHo  Native American  50 - 59   \n",
       "4      2011  Long Island City - Astoria      Multiracial  20 - 29   \n",
       "...     ...                         ...              ...      ...   \n",
       "21031  2021                 Willowbrook            Black      60+   \n",
       "21032  2021                 Willowbrook  Latino/Hispanic      60+   \n",
       "21033  2021                 Willowbrook    Other/Unknown      60+   \n",
       "21034  2021                 Willowbrook            White      60+   \n",
       "21035  2021                 Willowbrook              NaN      NaN   \n",
       "\n",
       "       TOTAL NUMBER OF HIV DIAGNOSES  HIV DIAGNOSES PER 100,000 POPULATION  \\\n",
       "0                                0.0                                   0.0   \n",
       "1                                0.0                                   NaN   \n",
       "2                                0.0                                   NaN   \n",
       "3                                0.0                                   0.0   \n",
       "4                                0.0                                   0.0   \n",
       "...                              ...                                   ...   \n",
       "21031                            0.0                                   0.0   \n",
       "21032                            0.0                                   0.0   \n",
       "21033                            0.0                                   0.0   \n",
       "21034                            0.0                                   0.0   \n",
       "21035                            4.0                                   4.9   \n",
       "\n",
       "       TOTAL NUMBER OF CONCURRENT HIV/AIDS DIAGNOSES  \\\n",
       "0                                                0.0   \n",
       "1                                                0.0   \n",
       "2                                                0.0   \n",
       "3                                                0.0   \n",
       "4                                                0.0   \n",
       "...                                              ...   \n",
       "21031                                            0.0   \n",
       "21032                                            0.0   \n",
       "21033                                            0.0   \n",
       "21034                                            0.0   \n",
       "21035                                            0.0   \n",
       "\n",
       "       PROPORTION OF CONCURRENT HIV/AIDS DIAGNOSES AMONG ALL HIV DIAGNOSES  \\\n",
       "0                                                    0.0                     \n",
       "1                                                    NaN                     \n",
       "2                                                    NaN                     \n",
       "3                                                    0.0                     \n",
       "4                                                    0.0                     \n",
       "...                                                  ...                     \n",
       "21031                                                NaN                     \n",
       "21032                                                NaN                     \n",
       "21033                                                NaN                     \n",
       "21034                                                NaN                     \n",
       "21035                                                0.0                     \n",
       "\n",
       "       TOTAL NUMBER OF AIDS DIAGNOSES  AIDS DIAGNOSES PER 100,000 POPULATION  \\\n",
       "0                                 0.0                                    0.0   \n",
       "1                                 0.0                                    NaN   \n",
       "2                                 0.0                                    NaN   \n",
       "3                                 0.0                                    0.0   \n",
       "4                                 0.0                                    0.0   \n",
       "...                               ...                                    ...   \n",
       "21031                             0.0                                    0.0   \n",
       "21032                             0.0                                    0.0   \n",
       "21033                             NaN                                    NaN   \n",
       "21034                             1.0                                    5.6   \n",
       "21035                             4.0                                    4.9   \n",
       "\n",
       "              Borough  \n",
       "0                 NaN  \n",
       "1                 NaN  \n",
       "2                 NaN  \n",
       "3                 NaN  \n",
       "4                 NaN  \n",
       "...               ...  \n",
       "21031  Staten\\nIsland  \n",
       "21032  Staten\\nIsland  \n",
       "21033  Staten\\nIsland  \n",
       "21034  Staten\\nIsland  \n",
       "21035  Staten\\nIsland  \n",
       "\n",
       "[21036 rows x 11 columns]"
      ]
     },
     "execution_count": 9,
     "metadata": {},
     "output_type": "execute_result"
    }
   ],
   "source": [
    "df_updated"
   ]
  },
  {
   "cell_type": "code",
   "execution_count": 10,
   "id": "af7ad19c",
   "metadata": {},
   "outputs": [],
   "source": [
    "#Remove invalid value'NaN'\n",
    "df_updated.dropna(inplace=True)\n"
   ]
  },
  {
   "cell_type": "code",
   "execution_count": 11,
   "id": "f5225f4e",
   "metadata": {},
   "outputs": [],
   "source": [
    "#Checking for Missing Values\n",
    "after_drop_unwanted=df_updated.isnull().sum()"
   ]
  },
  {
   "cell_type": "code",
   "execution_count": 12,
   "id": "7ec026b6",
   "metadata": {
    "scrolled": true
   },
   "outputs": [
    {
     "data": {
      "text/plain": [
       "YEAR                                                                   0\n",
       "NEIGHBORHOOD                                                           0\n",
       "RACE/ETHNICITY                                                         0\n",
       "AGE                                                                    0\n",
       "TOTAL NUMBER OF HIV DIAGNOSES                                          0\n",
       "HIV DIAGNOSES PER 100,000 POPULATION                                   0\n",
       "TOTAL NUMBER OF CONCURRENT HIV/AIDS DIAGNOSES                          0\n",
       "PROPORTION OF CONCURRENT HIV/AIDS DIAGNOSES AMONG ALL HIV DIAGNOSES    0\n",
       "TOTAL NUMBER OF AIDS DIAGNOSES                                         0\n",
       "AIDS DIAGNOSES PER 100,000 POPULATION                                  0\n",
       "Borough                                                                0\n",
       "dtype: int64"
      ]
     },
     "execution_count": 12,
     "metadata": {},
     "output_type": "execute_result"
    }
   ],
   "source": [
    "after_drop_unwanted"
   ]
  },
  {
   "cell_type": "markdown",
   "id": "887c554e",
   "metadata": {},
   "source": [
    "# Check for unique values for each column"
   ]
  },
  {
   "cell_type": "code",
   "execution_count": 13,
   "id": "95005b22",
   "metadata": {},
   "outputs": [
    {
     "data": {
      "text/plain": [
       "array([2016, 2017, 2018, 2019, 2020, 2021], dtype=int64)"
      ]
     },
     "execution_count": 13,
     "metadata": {},
     "output_type": "execute_result"
    }
   ],
   "source": [
    "#Check Year\n",
    "df_updated['YEAR'].unique()"
   ]
  },
  {
   "cell_type": "code",
   "execution_count": 14,
   "id": "59c101ef",
   "metadata": {},
   "outputs": [
    {
     "data": {
      "text/plain": [
       "array(['Crotona - Tremont', 'Fordham - Bronx Park',\n",
       "       'High Bridge - Morrisania', 'Hunts Point - Mott Haven',\n",
       "       'Kingsbridge - Riverdale', 'Northeast Bronx',\n",
       "       'Pelham - Throgs Neck', 'Bedford Stuyvesant -\\nCrown Heights',\n",
       "       'Bensonhurst - Bay Ridge', 'Borough Park', 'Canarsie - Flatlands',\n",
       "       'Coney Island -\\nSheepshead Bay',\n",
       "       'Downtown - Heights -\\nPark Slope', 'East Flatbush - Flatbush',\n",
       "       'East New York', 'Greenpoint', 'Sunset Park',\n",
       "       'Williamsburg - Bushwick', 'Central Harlem -\\nMorningside Heights',\n",
       "       'Chelsea - Clinton', 'East Harlem', 'Gramercy Park - Murray\\nHill',\n",
       "       'Greenwich Village - Soho', 'Lower Manhattan',\n",
       "       'Union Square - Lower\\nEast Side', 'Upper East Side',\n",
       "       'Upper West Side', 'Washington Heights -\\nInwood',\n",
       "       'Bayside - Little Neck', 'Flushing - Clearview', 'Fresh Meadows',\n",
       "       'Jamaica', 'Long Island City - Astoria',\n",
       "       'Ridgewood - Forest Hills', 'Rockaway', 'Southeast Queens',\n",
       "       'Southwest Queens', 'West Queens', 'Port Richmond',\n",
       "       'South Beach - Tottenville', 'Stapleton - St. George',\n",
       "       'Willowbrook'], dtype=object)"
      ]
     },
     "execution_count": 14,
     "metadata": {},
     "output_type": "execute_result"
    }
   ],
   "source": [
    "#Check Neighborhood\n",
    "df_updated['NEIGHBORHOOD'].unique()"
   ]
  },
  {
   "cell_type": "code",
   "execution_count": 15,
   "id": "89eae93f",
   "metadata": {},
   "outputs": [
    {
     "data": {
      "text/plain": [
       "array(['Black', 'Latino/Hispanic', 'White', 'Asian/Pacific\\nIslander',\n",
       "       'Other/Unknown'], dtype=object)"
      ]
     },
     "execution_count": 15,
     "metadata": {},
     "output_type": "execute_result"
    }
   ],
   "source": [
    "#Check RACE/ETHNICITY \n",
    "df_updated['RACE/ETHNICITY'].unique()"
   ]
  },
  {
   "cell_type": "code",
   "execution_count": 16,
   "id": "7de13531",
   "metadata": {},
   "outputs": [
    {
     "data": {
      "text/plain": [
       "array(['13 -\\n19', '20 -\\n29', '30 -\\n39', '40 -\\n49', '50 -\\n59', '60+'],\n",
       "      dtype=object)"
      ]
     },
     "execution_count": 16,
     "metadata": {},
     "output_type": "execute_result"
    }
   ],
   "source": [
    "#Check AGE  \n",
    "df_updated['AGE'].unique()"
   ]
  },
  {
   "cell_type": "code",
   "execution_count": 17,
   "id": "1d46dd04",
   "metadata": {},
   "outputs": [
    {
     "data": {
      "text/plain": [
       "array(['Bronx', 'Brooklyn', 'Manhattan', 'Queens', 'Staten\\nIsland'],\n",
       "      dtype=object)"
      ]
     },
     "execution_count": 17,
     "metadata": {},
     "output_type": "execute_result"
    }
   ],
   "source": [
    "#Check BOROUGH   \n",
    "df_updated['Borough'].unique()"
   ]
  },
  {
   "cell_type": "code",
   "execution_count": 18,
   "id": "a79b602c",
   "metadata": {},
   "outputs": [
    {
     "name": "stdout",
     "output_type": "stream",
     "text": [
      "<class 'pandas.core.frame.DataFrame'>\n",
      "Index: 3231 entries, 8680 to 21026\n",
      "Data columns (total 11 columns):\n",
      " #   Column                                                               Non-Null Count  Dtype  \n",
      "---  ------                                                               --------------  -----  \n",
      " 0   YEAR                                                                 3231 non-null   int64  \n",
      " 1   NEIGHBORHOOD                                                         3231 non-null   object \n",
      " 2   RACE/ETHNICITY                                                       3231 non-null   object \n",
      " 3   AGE                                                                  3231 non-null   object \n",
      " 4   TOTAL NUMBER OF HIV DIAGNOSES                                        3231 non-null   float64\n",
      " 5   HIV DIAGNOSES PER 100,000 POPULATION                                 3231 non-null   float64\n",
      " 6   TOTAL NUMBER OF CONCURRENT HIV/AIDS DIAGNOSES                        3231 non-null   float64\n",
      " 7   PROPORTION OF CONCURRENT HIV/AIDS DIAGNOSES AMONG ALL HIV DIAGNOSES  3231 non-null   float64\n",
      " 8   TOTAL NUMBER OF AIDS DIAGNOSES                                       3231 non-null   float64\n",
      " 9   AIDS DIAGNOSES PER 100,000 POPULATION                                3231 non-null   float64\n",
      " 10  Borough                                                              3231 non-null   object \n",
      "dtypes: float64(6), int64(1), object(4)\n",
      "memory usage: 302.9+ KB\n"
     ]
    }
   ],
   "source": [
    "df_updated.info()"
   ]
  },
  {
   "cell_type": "markdown",
   "id": "475f0220",
   "metadata": {},
   "source": [
    "# Data conversion"
   ]
  },
  {
   "cell_type": "code",
   "execution_count": 19,
   "id": "185245e7",
   "metadata": {},
   "outputs": [],
   "source": [
    "df_updated['RACE/ETHNICITY']=df_updated['RACE/ETHNICITY'].astype('category')"
   ]
  },
  {
   "cell_type": "code",
   "execution_count": 20,
   "id": "3ebc829f",
   "metadata": {},
   "outputs": [],
   "source": [
    "df_updated['Borough']=df_updated['Borough'].astype('category')"
   ]
  },
  {
   "cell_type": "code",
   "execution_count": 21,
   "id": "f3d059cd",
   "metadata": {},
   "outputs": [
    {
     "data": {
      "text/plain": [
       "YEAR                                                                      int64\n",
       "NEIGHBORHOOD                                                             object\n",
       "RACE/ETHNICITY                                                         category\n",
       "AGE                                                                      object\n",
       "TOTAL NUMBER OF HIV DIAGNOSES                                           float64\n",
       "HIV DIAGNOSES PER 100,000 POPULATION                                    float64\n",
       "TOTAL NUMBER OF CONCURRENT HIV/AIDS DIAGNOSES                           float64\n",
       "PROPORTION OF CONCURRENT HIV/AIDS DIAGNOSES AMONG ALL HIV DIAGNOSES     float64\n",
       "TOTAL NUMBER OF AIDS DIAGNOSES                                          float64\n",
       "AIDS DIAGNOSES PER 100,000 POPULATION                                   float64\n",
       "Borough                                                                category\n",
       "dtype: object"
      ]
     },
     "execution_count": 21,
     "metadata": {},
     "output_type": "execute_result"
    }
   ],
   "source": [
    "#Review Data Types after conversion \n",
    "df_updated.dtypes"
   ]
  },
  {
   "cell_type": "code",
   "execution_count": 48,
   "id": "c2bd0cbe",
   "metadata": {},
   "outputs": [],
   "source": [
    "#Count the total number of AIDS diagnoses\n",
    "total_aids_diagnoses=df_updated['TOTAL NUMBER OF AIDS DIAGNOSES'].sum()"
   ]
  },
  {
   "cell_type": "code",
   "execution_count": 49,
   "id": "dbc5daaa",
   "metadata": {
    "scrolled": true
   },
   "outputs": [
    {
     "data": {
      "text/plain": [
       "6108.0"
      ]
     },
     "execution_count": 49,
     "metadata": {},
     "output_type": "execute_result"
    }
   ],
   "source": [
    "total_aids_diagnoses"
   ]
  },
  {
   "cell_type": "code",
   "execution_count": 50,
   "id": "51bd7be7",
   "metadata": {},
   "outputs": [],
   "source": [
    "#Count the total number of HIVS diagnoses\n",
    "total_hiv_diagnoses=df_updated['TOTAL NUMBER OF HIV DIAGNOSES'].sum()"
   ]
  },
  {
   "cell_type": "code",
   "execution_count": 51,
   "id": "f4decc61",
   "metadata": {},
   "outputs": [
    {
     "data": {
      "text/plain": [
       "11008.0"
      ]
     },
     "execution_count": 51,
     "metadata": {},
     "output_type": "execute_result"
    }
   ],
   "source": [
    "total_hiv_diagnoses"
   ]
  },
  {
   "cell_type": "markdown",
   "id": "efc8c978",
   "metadata": {},
   "source": [
    "# Columns to keep"
   ]
  },
  {
   "cell_type": "markdown",
   "id": "94e87259",
   "metadata": {},
   "source": [
    "Going to keep only 'TOTAL NUMBER OF AIDS DIAGNOSES' column as a focus point for analysis"
   ]
  },
  {
   "cell_type": "code",
   "execution_count": 43,
   "id": "069945bb",
   "metadata": {},
   "outputs": [],
   "source": [
    "#Specify columns to include in the DataFrame\n",
    "columns_to_keep=['YEAR','RACE/ETHNICITY','AGE','TOTAL NUMBER OF HIV DIAGNOSES','Borough']"
   ]
  },
  {
   "cell_type": "code",
   "execution_count": 44,
   "id": "a6cec9c2",
   "metadata": {},
   "outputs": [],
   "source": [
    "#Subset the DataFrame to include only the selected columns\n",
    "subset_df=df_updated[columns_to_keep]"
   ]
  },
  {
   "cell_type": "code",
   "execution_count": 45,
   "id": "6e46b399",
   "metadata": {
    "scrolled": true
   },
   "outputs": [
    {
     "data": {
      "text/html": [
       "<div>\n",
       "<style scoped>\n",
       "    .dataframe tbody tr th:only-of-type {\n",
       "        vertical-align: middle;\n",
       "    }\n",
       "\n",
       "    .dataframe tbody tr th {\n",
       "        vertical-align: top;\n",
       "    }\n",
       "\n",
       "    .dataframe thead th {\n",
       "        text-align: right;\n",
       "    }\n",
       "</style>\n",
       "<table border=\"1\" class=\"dataframe\">\n",
       "  <thead>\n",
       "    <tr style=\"text-align: right;\">\n",
       "      <th></th>\n",
       "      <th>YEAR</th>\n",
       "      <th>RACE/ETHNICITY</th>\n",
       "      <th>AGE</th>\n",
       "      <th>TOTAL NUMBER OF HIV DIAGNOSES</th>\n",
       "      <th>Borough</th>\n",
       "    </tr>\n",
       "  </thead>\n",
       "  <tbody>\n",
       "    <tr>\n",
       "      <th>8680</th>\n",
       "      <td>2016</td>\n",
       "      <td>Black</td>\n",
       "      <td>13 -\\n19</td>\n",
       "      <td>2.0</td>\n",
       "      <td>Bronx</td>\n",
       "    </tr>\n",
       "    <tr>\n",
       "      <th>8681</th>\n",
       "      <td>2016</td>\n",
       "      <td>Latino/Hispanic</td>\n",
       "      <td>13 -\\n19</td>\n",
       "      <td>4.0</td>\n",
       "      <td>Bronx</td>\n",
       "    </tr>\n",
       "    <tr>\n",
       "      <th>8686</th>\n",
       "      <td>2016</td>\n",
       "      <td>Black</td>\n",
       "      <td>20 -\\n29</td>\n",
       "      <td>9.0</td>\n",
       "      <td>Bronx</td>\n",
       "    </tr>\n",
       "    <tr>\n",
       "      <th>8687</th>\n",
       "      <td>2016</td>\n",
       "      <td>Latino/Hispanic</td>\n",
       "      <td>20 -\\n29</td>\n",
       "      <td>12.0</td>\n",
       "      <td>Bronx</td>\n",
       "    </tr>\n",
       "    <tr>\n",
       "      <th>8692</th>\n",
       "      <td>2016</td>\n",
       "      <td>Black</td>\n",
       "      <td>30 -\\n39</td>\n",
       "      <td>6.0</td>\n",
       "      <td>Bronx</td>\n",
       "    </tr>\n",
       "  </tbody>\n",
       "</table>\n",
       "</div>"
      ],
      "text/plain": [
       "      YEAR   RACE/ETHNICITY       AGE  TOTAL NUMBER OF HIV DIAGNOSES Borough\n",
       "8680  2016            Black  13 -\\n19                            2.0   Bronx\n",
       "8681  2016  Latino/Hispanic  13 -\\n19                            4.0   Bronx\n",
       "8686  2016            Black  20 -\\n29                            9.0   Bronx\n",
       "8687  2016  Latino/Hispanic  20 -\\n29                           12.0   Bronx\n",
       "8692  2016            Black  30 -\\n39                            6.0   Bronx"
      ]
     },
     "execution_count": 45,
     "metadata": {},
     "output_type": "execute_result"
    }
   ],
   "source": [
    "#Display the first few rows of the dataset, to ensure only displaying the selected columns\n",
    "subset_df.head()"
   ]
  },
  {
   "cell_type": "code",
   "execution_count": 25,
   "id": "6fd1e743",
   "metadata": {
    "scrolled": false
   },
   "outputs": [
    {
     "name": "stdout",
     "output_type": "stream",
     "text": [
      "<class 'pandas.core.frame.DataFrame'>\n",
      "Index: 3231 entries, 8680 to 21026\n",
      "Data columns (total 6 columns):\n",
      " #   Column                          Non-Null Count  Dtype   \n",
      "---  ------                          --------------  -----   \n",
      " 0   YEAR                            3231 non-null   int64   \n",
      " 1   RACE/ETHNICITY                  3231 non-null   category\n",
      " 2   AGE                             3231 non-null   object  \n",
      " 3   TOTAL NUMBER OF HIV DIAGNOSES   3231 non-null   float64 \n",
      " 4   TOTAL NUMBER OF AIDS DIAGNOSES  3231 non-null   float64 \n",
      " 5   Borough                         3231 non-null   category\n",
      "dtypes: category(2), float64(2), int64(1), object(1)\n",
      "memory usage: 132.9+ KB\n"
     ]
    }
   ],
   "source": [
    "#Exploratory Data Analysis (EDA), to ensure only displaying the selected columns\n",
    "subset_df.info()"
   ]
  },
  {
   "cell_type": "markdown",
   "id": "11cfafff",
   "metadata": {},
   "source": [
    "# Data Analysis"
   ]
  },
  {
   "cell_type": "markdown",
   "id": "4e629c2d",
   "metadata": {},
   "source": [
    "Perform groupby() to quickly get an overall of the distrubution of total number of HIV diagnoses within year, race,age and borough in this DataFrame "
   ]
  },
  {
   "cell_type": "code",
   "execution_count": 66,
   "id": "72d31e7c",
   "metadata": {},
   "outputs": [],
   "source": [
    "#Group data by 'YEAR' and count of occurrences\n",
    "yearly_hiv_counts=subset_df.groupby('YEAR')['TOTAL NUMBER OF HIV DIAGNOSES'].sum().sort_values(ascending=False)\n",
    "\n"
   ]
  },
  {
   "cell_type": "code",
   "execution_count": 67,
   "id": "b24612f8",
   "metadata": {
    "scrolled": false
   },
   "outputs": [
    {
     "data": {
      "text/plain": [
       "YEAR\n",
       "2020    2569.0\n",
       "2016    1921.0\n",
       "2017    1838.0\n",
       "2018    1696.0\n",
       "2019    1572.0\n",
       "2021    1412.0\n",
       "Name: TOTAL NUMBER OF HIV DIAGNOSES, dtype: float64"
      ]
     },
     "execution_count": 67,
     "metadata": {},
     "output_type": "execute_result"
    }
   ],
   "source": [
    "yearly_hiv_counts"
   ]
  },
  {
   "cell_type": "code",
   "execution_count": 68,
   "id": "baba7d63",
   "metadata": {},
   "outputs": [],
   "source": [
    "#Group by 'AGE' and count of occurrences\n",
    "age_hiv_counts=subset_df.groupby('AGE')['TOTAL NUMBER OF HIV DIAGNOSES'].sum().sort_values(ascending=False)"
   ]
  },
  {
   "cell_type": "code",
   "execution_count": 69,
   "id": "088f0d64",
   "metadata": {},
   "outputs": [
    {
     "data": {
      "text/plain": [
       "AGE\n",
       "20 -\\n29    3841.0\n",
       "30 -\\n39    3202.0\n",
       "40 -\\n49    1619.0\n",
       "50 -\\n59    1300.0\n",
       "60+          651.0\n",
       "13 -\\n19     395.0\n",
       "Name: TOTAL NUMBER OF HIV DIAGNOSES, dtype: float64"
      ]
     },
     "execution_count": 69,
     "metadata": {},
     "output_type": "execute_result"
    }
   ],
   "source": [
    "age_hiv_counts"
   ]
  },
  {
   "cell_type": "code",
   "execution_count": 83,
   "id": "bc519177",
   "metadata": {},
   "outputs": [],
   "source": [
    "#Group data by 'Borough' and count of occurrences\n",
    "borough_hiv_counts=subset_df.groupby('Borough')['TOTAL NUMBER OF HIV DIAGNOSES'].sum().sort_values(ascending=False)"
   ]
  },
  {
   "cell_type": "code",
   "execution_count": 84,
   "id": "a4e24fae",
   "metadata": {
    "scrolled": true
   },
   "outputs": [
    {
     "data": {
      "text/plain": [
       "Borough\n",
       "Brooklyn          3389.0\n",
       "Bronx             2780.0\n",
       "Manhattan         2304.0\n",
       "Queens            2292.0\n",
       "Staten\\nIsland     243.0\n",
       "Name: TOTAL NUMBER OF HIV DIAGNOSES, dtype: float64"
      ]
     },
     "execution_count": 84,
     "metadata": {},
     "output_type": "execute_result"
    }
   ],
   "source": [
    "borough_hiv_counts"
   ]
  },
  {
   "cell_type": "code",
   "execution_count": 72,
   "id": "61b4439d",
   "metadata": {},
   "outputs": [],
   "source": [
    "#Group data by RACE/ETHNICITY and calculate total number of HIV diagnoses\n",
    "race_hiv_diagnoses=subset_df.groupby('RACE/ETHNICITY')['TOTAL NUMBER OF HIV DIAGNOSES'].sum().sort_values(ascending=False)\n"
   ]
  },
  {
   "cell_type": "code",
   "execution_count": 73,
   "id": "2b6b1090",
   "metadata": {
    "scrolled": true
   },
   "outputs": [
    {
     "data": {
      "text/plain": [
       "RACE/ETHNICITY\n",
       "Black                      4890.0\n",
       "Latino/Hispanic            4087.0\n",
       "White                      1356.0\n",
       "Asian/Pacific\\nIslander     595.0\n",
       "Other/Unknown                80.0\n",
       "Name: TOTAL NUMBER OF HIV DIAGNOSES, dtype: float64"
      ]
     },
     "execution_count": 73,
     "metadata": {},
     "output_type": "execute_result"
    }
   ],
   "source": [
    "race_hiv_diagnoses"
   ]
  },
  {
   "cell_type": "markdown",
   "id": "2acfb7e8",
   "metadata": {},
   "source": [
    "# Visualization"
   ]
  },
  {
   "cell_type": "code",
   "execution_count": 74,
   "id": "558141b4",
   "metadata": {},
   "outputs": [],
   "source": [
    "import matplotlib.pyplot as plt\n",
    "import seaborn as sns"
   ]
  },
  {
   "cell_type": "code",
   "execution_count": 88,
   "id": "5b2aa703",
   "metadata": {},
   "outputs": [
    {
     "data": {
      "text/plain": [
       "(array([0, 1, 2, 3, 4, 5]),\n",
       " [Text(0, 0, '2016'),\n",
       "  Text(1, 0, '2017'),\n",
       "  Text(2, 0, '2018'),\n",
       "  Text(3, 0, '2019'),\n",
       "  Text(4, 0, '2020'),\n",
       "  Text(5, 0, '2021')])"
      ]
     },
     "execution_count": 88,
     "metadata": {},
     "output_type": "execute_result"
    },
    {
     "data": {
      "image/png": "[encoded data removed]",
      "text/plain": [
       "<Figure size 640x480 with 1 Axes>"
      ]
     },
     "metadata": {},
     "output_type": "display_data"
    }
   ],
   "source": [
    "#Create Bar plotfor yearly accurances\n",
    "sns.barplot(x=yearly_hiv_counts.index,y=yearly_hiv_counts.values,color='green')\n",
    "plt.title('Total Number of HIV Diagnoses by Year (Bar Plot)')\n",
    "plt.xlabel('Year')\n",
    "plt.ylabel('Total Number of HIV Diagnoses by')\n",
    "plt.xticks(rotation=45)"
   ]
  },
  {
   "cell_type": "markdown",
   "id": "3288ccad",
   "metadata": {},
   "source": [
    "2020 stands out as the year with the highest occurence of events in the dataset. This observation suggests that 2020 experienced a notable frequency of events compared to other years, indicating a potential area of focus for further inverstigation "
   ]
  },
  {
   "cell_type": "markdown",
   "id": "dd57c90a",
   "metadata": {},
   "source": [
    "The plot illustrating race occurence reveals that Black & Latin/Hispanic demonstrate the highest frequency of events in the dataset. This observation suggests differences in event occurances across different racial groups, emphasizing the need for further examinaion into potential underlying factors contributing to these differences."
   ]
  },
  {
   "cell_type": "code",
   "execution_count": 89,
   "id": "8e551577",
   "metadata": {
    "scrolled": true
   },
   "outputs": [
    {
     "data": {
      "text/plain": [
       "(array([0, 1, 2, 3, 4, 5]),\n",
       " [Text(0, 0, '20 -\\n29'),\n",
       "  Text(1, 0, '30 -\\n39'),\n",
       "  Text(2, 0, '40 -\\n49'),\n",
       "  Text(3, 0, '50 -\\n59'),\n",
       "  Text(4, 0, '60+'),\n",
       "  Text(5, 0, '13 -\\n19')])"
      ]
     },
     "execution_count": 89,
     "metadata": {},
     "output_type": "execute_result"
    },
    {
     "data": {
      "image/png": "[encoded data removed]",
      "text/plain": [
       "<Figure size 640x480 with 1 Axes>"
      ]
     },
     "metadata": {},
     "output_type": "display_data"
    }
   ],
   "source": [
    "#Create Bar plot for Age accurence\n",
    "sns.barplot(x=age_hiv_counts.index,y=age_hiv_counts.values,color='brown')\n",
    "plt.title('Total Number of HIV Diagnoses by Age (Bar Plot)')\n",
    "plt.xlabel('Age')\n",
    "plt.ylabel('Total Number of HIV Diagnoses by')\n",
    "plt.xticks(rotation=45)"
   ]
  },
  {
   "cell_type": "code",
   "execution_count": 90,
   "id": "f539f648",
   "metadata": {
    "scrolled": true
   },
   "outputs": [
    {
     "data": {
      "text/plain": [
       "(array([0, 1, 2, 3, 4]),\n",
       " [Text(0, 0, 'Bronx'),\n",
       "  Text(1, 0, 'Brooklyn'),\n",
       "  Text(2, 0, 'Manhattan'),\n",
       "  Text(3, 0, 'Queens'),\n",
       "  Text(4, 0, 'Staten\\nIsland')])"
      ]
     },
     "execution_count": 90,
     "metadata": {},
     "output_type": "execute_result"
    },
    {
     "data": {
      "image/png": "[encoded data removed]",
      "text/plain": [
       "<Figure size 640x480 with 1 Axes>"
      ]
     },
     "metadata": {},
     "output_type": "display_data"
    }
   ],
   "source": [
    "#Create Bar plot for Borough accurence\n",
    "sns.barplot(x=borough_hiv_counts.index,y=borough_hiv_counts.values,color='yellow')\n",
    "plt.title('Total Number of HIV Diagnoses by Borough (Bar Plot)')\n",
    "plt.xlabel('Borough')\n",
    "plt.ylabel('Total Number of HIV Diagnoses')\n",
    "plt.xticks(rotation=45)"
   ]
  },
  {
   "cell_type": "markdown",
   "id": "4a6606d9",
   "metadata": {},
   "source": [
    "The analysis of occurence counts by age group indicates that individuals aged 20-29 and 30-39 demonstrate the highest frequency of events in the dataset"
   ]
  },
  {
   "cell_type": "code",
   "execution_count": 77,
   "id": "64cecfb1",
   "metadata": {},
   "outputs": [
    {
     "data": {
      "text/plain": [
       "(array([0, 1, 2, 3, 4]),\n",
       " [Text(0, 0, 'Asian/Pacific\\nIslander'),\n",
       "  Text(1, 0, 'Black'),\n",
       "  Text(2, 0, 'Latino/Hispanic'),\n",
       "  Text(3, 0, 'Other/Unknown'),\n",
       "  Text(4, 0, 'White')])"
      ]
     },
     "execution_count": 77,
     "metadata": {},
     "output_type": "execute_result"
    },
    {
     "data": {
      "image/png": "[encoded data removed]",
      "text/plain": [
       "<Figure size 640x480 with 1 Axes>"
      ]
     },
     "metadata": {},
     "output_type": "display_data"
    }
   ],
   "source": [
    "#Create Bar plot for race/ethnicity and count of 'total number of HIV diagnoses'\n",
    "sns.barplot(x=race_hiv_diagnoses.index,y=race_hiv_diagnoses.values,color='blue')\n",
    "plt.title('Total Number of HIV Diagnoses by Race/Ethnicity')\n",
    "plt.xlabel('Race/Ethnicity')\n",
    "plt.ylabel('Total Number of HIV Diagnoses')\n",
    "plt.xticks(rotation=45)"
   ]
  },
  {
   "cell_type": "markdown",
   "id": "9b6c39fd",
   "metadata": {},
   "source": [
    "# Conclusion Statement"
   ]
  },
  {
   "cell_type": "markdown",
   "id": "901f7609",
   "metadata": {},
   "source": [
    "In summary, our anaylsis highlights a notable increase in HIV diagnoses, particularly in 2020, which could be linked to the COVID-19 outbreak.The disruptions caused by the pandemic, such as limited access to healthcare services, decreased testing and prevention efforts, and increased social and economic hardships, may have contributed to the spike in HIV rates period. Black and Hispanic individuals, along with young adults aged 20-29 and 30-39, were disportionately affected. These findings emphasize the importance of addressing the intersecting challenges of COVID-19 and HIV, as well as the need for targeted interventions and support services to mitigate the impact on vulnerable populations. By addressing these challenges comprehensively, we can work towards reducing the burden of HIV and prompting better health outcomes for all."
   ]
  },
  {
   "cell_type": "code",
   "execution_count": null,
   "id": "68ec55b3",
   "metadata": {},
   "outputs": [],
   "source": []
  }
 ],
 "metadata": {
  "kernelspec": {
   "display_name": "Python 3 (ipykernel)",
   "language": "python",
   "name": "python3"
  },
  "language_info": {
   "codemirror_mode": {
    "name": "ipython",
    "version": 3
   },
   "file_extension": ".py",
   "mimetype": "text/x-python",
   "name": "python",
   "nbconvert_exporter": "python",
   "pygments_lexer": "ipython3",
   "version": "3.11.5"
  }
 },
 "nbformat": 4,
 "nbformat_minor": 5
}
